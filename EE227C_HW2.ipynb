{
  "nbformat": 4,
  "nbformat_minor": 0,
  "metadata": {
    "colab": {
      "name": "EE227C_HW2",
      "provenance": [],
      "collapsed_sections": []
    },
    "kernelspec": {
      "name": "python3",
      "display_name": "Python 3"
    },
    "language_info": {
      "name": "python"
    }
  },
  "cells": [
    {
      "cell_type": "code",
      "execution_count": null,
      "metadata": {
        "id": "ypLQI-6nnLgs"
      },
      "outputs": [],
      "source": [
        "import numpy as np\n",
        "import matplotlib.pyplot as plt\n",
        "import cvxpy as cvx"
      ]
    },
    {
      "cell_type": "markdown",
      "source": [
        "# Q1"
      ],
      "metadata": {
        "id": "3SJQr4fQnWSc"
      }
    },
    {
      "cell_type": "code",
      "source": [
        "matrices = []\n",
        "for k in range(5):\n",
        "  true_k = k+1\n",
        "  matrices.append([])\n",
        "  for i in range(10):\n",
        "    true_i = i+1\n",
        "    matrices[k].append([])\n",
        "    for j in range(10):\n",
        "      true_j = j+1\n",
        "      if true_i < true_j:\n",
        "        value = np.exp(true_i/true_j) * np.cos(true_i*true_j) * np.sin(true_k)\n",
        "      elif true_i > true_j:\n",
        "        value = matrices[k][j][i]\n",
        "      else:\n",
        "        value = 0\n",
        "      matrices[k][i].append(value)\n",
        "\n",
        "  for d in range(10):\n",
        "    true_d = d + 1\n",
        "    sum = 0\n",
        "    for l in range(10):\n",
        "      if l != d:\n",
        "        sum += np.abs(matrices[k][d][l])\n",
        "    value = (true_d/10) * np.abs(np.sin(true_k)) + sum\n",
        "    matrices[k][d][d] = value\n",
        "\n",
        "  matrices[k] = np.array(matrices[k])\n",
        "\n",
        "vectors = []\n",
        "for k in range(5):\n",
        "  vectors.append([])\n",
        "  for i in range(10):\n",
        "    true_i = i+1\n",
        "    true_k = k+1\n",
        "    vectors[k].append(np.exp(true_i/true_k) * np.sin(true_i*true_k))"
      ],
      "metadata": {
        "id": "QFrnr0A1nQ0S"
      },
      "execution_count": null,
      "outputs": []
    },
    {
      "cell_type": "code",
      "source": [
        "x1 = np.ones(10)\n",
        "\n",
        "for k in range(5):\n",
        "  print(np.dot(x1, matrices[k] @ x1) - np.dot(x1, vectors[k]))\n"
      ],
      "metadata": {
        "colab": {
          "base_uri": "https://localhost:8080/"
        },
        "id": "eQQM9d8ZvzKn",
        "outputId": "7336d78f-7202-4310-a02b-7ae196772f94"
      },
      "execution_count": null,
      "outputs": [
        {
          "output_type": "stream",
          "name": "stdout",
          "text": [
            "5337.066429311362\n",
            "12.104221222535315\n",
            "29.4798349941795\n",
            "78.82665877069525\n",
            "101.1388127109267\n"
          ]
        }
      ]
    },
    {
      "cell_type": "markdown",
      "source": [
        "Level Method"
      ],
      "metadata": {
        "id": "cRM9d0_tUBoa"
      }
    },
    {
      "cell_type": "code",
      "source": [
        "def pointwise_max_subgradient(functions, matrices, vectors, x):\n",
        "  i = np.argmax([f(x) for f in functions])\n",
        "  gradient = 2 * matrices[i] @ x - vectors[i]\n",
        "  \n",
        "  return gradient\n",
        "\n",
        "def pointwise_max_eval(functions, x):\n",
        "  return max([f(x) for f in functions])\n",
        "\n",
        "def pointwise_max_f(functions):\n",
        "  return lambda x, functions=functions : max([f(x) for f in functions])\n"
      ],
      "metadata": {
        "id": "Ut0uqizPUppm"
      },
      "execution_count": null,
      "outputs": []
    },
    {
      "cell_type": "code",
      "source": [
        "T = 100\n",
        "xs = [np.ones(10)]\n",
        "f_obj = [lambda x, matrices=matrices, vectors=vectors, k=k: np.dot(x, matrices[k] @ x) - np.dot(x, vectors[k]) for k in range(5)]\n",
        "f = []\n",
        "lam = 0.9\n",
        "\n",
        "\n",
        "x = cvx.Variable(10)\n",
        "t = cvx.Variable()\n",
        "G = [-5 <= x, x <= 5]\n",
        "\n",
        "losses = []\n",
        "min_so_far = 1e10\n",
        "\n",
        "for i in range(T):\n",
        "  x_curr = xs[-1]\n",
        "  g = pointwise_max_subgradient(f_obj, matrices, vectors, x_curr)\n",
        "  f_curr = pointwise_max_eval(f_obj, x_curr) + g @ (x - x_curr)\n",
        "  f.append(f_curr)\n",
        "\n",
        "  f_i_minus_prob = cvx.Problem(cvx.Minimize(t), constraints=[t >= f_i for f_i in f] + G)\n",
        "\n",
        "  f_i_minus = f_i_minus_prob.solve()\n",
        "\n",
        "  f_i_plus = min([pointwise_max_f(f_obj)(x_i) for x_i in xs])\n",
        "\n",
        "  l = (1 - lam) * f_i_minus + lam * f_i_plus\n",
        "\n",
        "  x_next_prob = cvx.Problem(cvx.Minimize(cvx.norm2(x_curr - x)), constraints = [l >= f_i for f_i in f] + G)\n",
        "\n",
        "  result = x_next_prob.solve()\n",
        "\n",
        "  x_next = np.array(x.value)\n",
        "\n",
        "  xs.append(x_next)\n",
        "  # print(\"x next:\", x_next)\n",
        "\n",
        "  eval = pointwise_max_eval(f_obj, x_next)\n",
        "\n",
        "  min_so_far = min(min_so_far, eval)\n",
        "\n",
        "  losses.append(min_so_far)"
      ],
      "metadata": {
        "id": "PEuCBFZuUDYB"
      },
      "execution_count": null,
      "outputs": []
    },
    {
      "cell_type": "code",
      "source": [
        "fig = plt.figure(figsize=(9,6))\n",
        "ax = fig.add_subplot(1, 1, 1)\n",
        "ax.plot(np.arange(T), np.array(losses) - min(losses))\n",
        "ax.set_yscale('log')\n",
        "ax.set_xscale('log')\n",
        "ax.set_ylabel('Suboptimality Gap')\n",
        "ax.set_xlabel('Iteration')\n",
        "ax.set_title('Convergence of Level Method')\n",
        "plt.show()"
      ],
      "metadata": {
        "colab": {
          "base_uri": "https://localhost:8080/",
          "height": 408
        },
        "id": "CPuZQKiJqVAL",
        "outputId": "fff35933-96df-4a66-e780-84a1e332f0d8"
      },
      "execution_count": null,
      "outputs": [
        {
          "output_type": "display_data",
          "data": {
            "text/plain": [
              "<Figure size 648x432 with 1 Axes>"
            ],
            "image/png": "[encoded data removed]"
          },
          "metadata": {
            "needs_background": "light"
          }
        }
      ]
    },
    {
      "cell_type": "markdown",
      "source": [
        "# Q2"
      ],
      "metadata": {
        "id": "zDoKmzb6hlc7"
      }
    },
    {
      "cell_type": "code",
      "source": [
        "n = 20\n",
        "A = np.random.normal(size=(n,n))\n",
        "A = np.zeros(shape=(n,n))\n",
        "A[0][0] = 2\n",
        "A[0][1] = -1\n",
        "A[n-1][n-2] = -1\n",
        "A[n-1][n-1] = 2\n",
        "for i in range(1, n-1):\n",
        "  A[i][i-1] = -1\n",
        "  A[i][i] = 2\n",
        "  A[i][i+1] = -1"
      ],
      "metadata": {
        "id": "UqS0eqtOXMeS"
      },
      "execution_count": null,
      "outputs": []
    },
    {
      "cell_type": "code",
      "source": [
        "xs = [np.ones(n)]\n",
        "T = 100000\n",
        "a = 0.02\n",
        "losses_gd = []\n",
        "min_so_far = 1e10\n",
        "for i in range(T):\n",
        "  x_curr = xs[-1]\n",
        "  x_next = x_curr - a * (A.T @ A) @ x_curr\n",
        "  xs.append(x_next)\n",
        "\n",
        "  eval = x_next.T @ A.T @ A @ x_next\n",
        "  min_so_far = min(eval, min_so_far)\n",
        "  losses_gd.append(min_so_far)"
      ],
      "metadata": {
        "id": "7ndQMDcRrNXF"
      },
      "execution_count": null,
      "outputs": []
    },
    {
      "cell_type": "code",
      "source": [
        "fig = plt.figure(figsize=(9,6))\n",
        "ax = fig.add_subplot(1, 1, 1)\n",
        "ax.plot(np.arange(T), np.array(losses_gd))\n",
        "ax.set_yscale('log')\n",
        "ax.set_xscale('log')\n",
        "ax.set_ylabel('Suboptimality Gap')\n",
        "ax.set_xlabel('Iteration')\n",
        "ax.set_title('Convergence of Gradient Descent')\n",
        "plt.show()"
      ],
      "metadata": {
        "colab": {
          "base_uri": "https://localhost:8080/",
          "height": 408
        },
        "id": "5iL3be4juenK",
        "outputId": "247eb446-8d84-448e-b95c-f8f347c63cc7"
      },
      "execution_count": null,
      "outputs": [
        {
          "output_type": "display_data",
          "data": {
            "text/plain": [
              "<Figure size 648x432 with 1 Axes>"
            ],
            "image/png": "[encoded data removed]"
          },
          "metadata": {
            "needs_background": "light"
          }
        }
      ]
    },
    {
      "cell_type": "code",
      "source": [
        "xs = [np.ones(n)]\n",
        "T = 100000\n",
        "losses_agd = []\n",
        "lam = 1\n",
        "gamma = 0\n",
        "a = 0.02\n",
        "z = np.ones(n)\n",
        "min_so_far = 1e10\n",
        "\n",
        "for i in range(T):\n",
        "  x_curr = xs[-1]\n",
        "  y = (1 - gamma) * x_curr + gamma * z\n",
        "  z = z - a * (gamma/lam) * (A.T @ A) @ y\n",
        "  x_next = y - a * (A.T @ A) @ y\n",
        "  xs.append(x_next)\n",
        "  if i > 3:\n",
        "    gamma = 2/i\n",
        "    lam = 6/(i**2 - i)\n",
        "\n",
        "  eval = x_next.T @ A.T @ A @ x_next\n",
        "  min_so_far = min(min_so_far, eval)\n",
        "  losses_agd.append(min_so_far)"
      ],
      "metadata": {
        "id": "qUBJvxmOuwhO"
      },
      "execution_count": null,
      "outputs": []
    },
    {
      "cell_type": "code",
      "source": [
        "fig = plt.figure(figsize=(9,6))\n",
        "ax = fig.add_subplot(1, 1, 1)\n",
        "ax.plot(np.arange(T), np.array(losses_gd), label=\"GD\")\n",
        "ax.plot(np.arange(T), np.array(losses_agd), label=\"AGD\")\n",
        "ax.set_yscale('log')\n",
        "ax.set_xscale('log')\n",
        "ax.set_ylabel('Suboptimality Gap')\n",
        "ax.set_xlabel('Iteration')\n",
        "ax.legend()\n",
        "ax.set_title('Convergence of Accelerated Gradient Descent')\n",
        "plt.show()"
      ],
      "metadata": {
        "colab": {
          "base_uri": "https://localhost:8080/",
          "height": 408
        },
        "id": "xiYSVtqFWa9E",
        "outputId": "afd4b041-ee56-4149-f3f6-f47dbf9e63b5"
      },
      "execution_count": null,
      "outputs": [
        {
          "output_type": "display_data",
          "data": {
            "text/plain": [
              "<Figure size 648x432 with 1 Axes>"
            ],
            "image/png": "[encoded data removed]"
          },
          "metadata": {
            "needs_background": "light"
          }
        }
      ]
    }
  ]
}